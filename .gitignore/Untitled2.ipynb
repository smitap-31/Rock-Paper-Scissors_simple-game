{
 "cells": [
  {
   "cell_type": "code",
   "execution_count": 3,
   "metadata": {},
   "outputs": [
    {
     "name": "stdout",
     "output_type": "stream",
     "text": [
      "Rock(r),Paper(p),Scissor(s)?p\n",
      "p vs p\n",
      "Draw!!\n"
     ]
    }
   ],
   "source": [
    "#!/bin/python3\n",
    "from random import randint\n",
    "player=input('Rock(r),Paper(p),Scissor(s)?')\n",
    "computer=randint(1,3)\n",
    "if computer==1:\n",
    "   computer='r'\n",
    "elif computer==2:\n",
    "   computer='p'\n",
    "else:\n",
    "   computer='s'\n",
    "print(player,'vs',computer)\n",
    "if player==computer:\n",
    "    print('Draw!!')\n",
    "elif player=='s' and computer=='p':\n",
    "    print(\"Player Wins!!\")\n",
    "elif player=='p' and computer=='s':\n",
    "    print('Computer Wins!!')\n",
    "elif player=='p' and computer=='r':\n",
    "    print(\"Player Wins!!\")\n",
    "elif player=='r' and computer=='p':\n",
    "    print('Computer Wins!!')\n",
    "elif player=='r' and computer=='s':\n",
    "    print('Player Wins!!')\n",
    "elif player=='s' and computer=='r':\n",
    "    print('Computer Wins!!')"
   ]
  },
  {
   "cell_type": "code",
   "execution_count": null,
   "metadata": {},
   "outputs": [],
   "source": []
  }
 ],
 "metadata": {
  "kernelspec": {
   "display_name": "Python 3",
   "language": "python",
   "name": "python3"
  },
  "language_info": {
   "codemirror_mode": {
    "name": "ipython",
    "version": 3
   },
   "file_extension": ".py",
   "mimetype": "text/x-python",
   "name": "python",
   "nbconvert_exporter": "python",
   "pygments_lexer": "ipython3",
   "version": "3.6.5"
  }
 },
 "nbformat": 4,
 "nbformat_minor": 2
}
